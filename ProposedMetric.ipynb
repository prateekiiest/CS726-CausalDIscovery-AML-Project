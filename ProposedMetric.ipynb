{
  "nbformat": 4,
  "nbformat_minor": 0,
  "metadata": {
    "colab": {
      "provenance": []
    },
    "kernelspec": {
      "name": "python3",
      "display_name": "Python 3"
    },
    "language_info": {
      "name": "python"
    }
  },
  "cells": [
    {
      "cell_type": "code",
      "source": [
        "import numpy as np"
      ],
      "metadata": {
        "id": "4a-p7NyKxqMM"
      },
      "execution_count": null,
      "outputs": []
    },
    {
      "cell_type": "code",
      "source": [
        "def softmax(x):\n",
        "    return(np.exp(x)/np.exp(x).sum())"
      ],
      "metadata": {
        "id": "FXNwfzeQxkn0"
      },
      "execution_count": null,
      "outputs": []
    },
    {
      "cell_type": "code",
      "execution_count": null,
      "metadata": {
        "id": "ooY7yrorxRwG"
      },
      "outputs": [],
      "source": [
        "def softmax_comp(x):\n",
        "    return(np.exp(-x)/np.exp(-x).sum())"
      ]
    },
    {
      "cell_type": "code",
      "source": [
        "array_small = np.array([2, 11, 7])\n",
        "array_large = np.array([0,100, 3000])\n"
      ],
      "metadata": {
        "id": "b-Bi5eskxkNQ"
      },
      "execution_count": null,
      "outputs": []
    },
    {
      "cell_type": "code",
      "source": [
        "softmax_comp(array_large)"
      ],
      "metadata": {
        "colab": {
          "base_uri": "https://localhost:8080/"
        },
        "id": "k6W--bKnxoWX",
        "outputId": "2c675131-510b-48b0-82a9-3a37f4a80955"
      },
      "execution_count": null,
      "outputs": [
        {
          "output_type": "execute_result",
          "data": {
            "text/plain": [
              "array([1.00000000e+00, 3.72007598e-44, 0.00000000e+00])"
            ]
          },
          "metadata": {},
          "execution_count": 102
        }
      ]
    },
    {
      "cell_type": "code",
      "source": [
        "data = [[\"FDR\", \"PC\", 0.2593],[\"FDR\", \"GES\", 0.3793],[\"FDR\", \"LinGAM\", 0.3333],[\"FDR\", \"No Tears\", 0.1071], [\"FDR\", \"CRL\", 0.2143],[\"FDR\", \"CORL\", 0], \n",
        "        [\"TPR\", \"PC\", 0.7407],[\"TPR\", \"GES\", 0.6667],[\"TPR\", \"LinGAM\", 0.7407],[\"TPR\", \"No Tears\", 0.9259], [\"TPR\", \"CRL\", 0.8148],[\"TPR\", \"CORL\", 1],\n",
        "        [\"SDH\", \"PC\", 12],[\"SDH\", \"GES\", 15],[\"SDH\", \"LinGAM\", 13],[\"SDH\", \"No Tears\",4], [\"SDH\", \"CRL\", 10],[\"SDH\", \"CORL\", 0]]"
      ],
      "metadata": {
        "id": "IvBTM7pFyTL6"
      },
      "execution_count": null,
      "outputs": []
    },
    {
      "cell_type": "code",
      "source": [
        "import pandas as pd\n",
        "\n",
        "df = pd.DataFrame(data, columns=[\"Metrics\", \"Algorithm\", \"Values\"])"
      ],
      "metadata": {
        "id": "Sxj_G2OlxsKo"
      },
      "execution_count": null,
      "outputs": []
    },
    {
      "cell_type": "code",
      "source": [
        "sc = softmax_comp(df[df[\"Metrics\"]==\"SDH\"][\"Values\"])"
      ],
      "metadata": {
        "id": "sI_HIPjzx2t4"
      },
      "execution_count": null,
      "outputs": []
    },
    {
      "cell_type": "code",
      "source": [
        "df.groupby(\"Algorithm\").head()"
      ],
      "metadata": {
        "colab": {
          "base_uri": "https://localhost:8080/",
          "height": 614
        },
        "id": "1YBukl86y4Dv",
        "outputId": "94fea108-9888-4456-9e08-3ead21e65e2c"
      },
      "execution_count": null,
      "outputs": [
        {
          "output_type": "execute_result",
          "data": {
            "text/plain": [
              "   Metrics Algorithm   Values\n",
              "0      FDR        PC   0.2593\n",
              "1      FDR       GES   0.3793\n",
              "2      FDR    LinGAM   0.3333\n",
              "3      FDR  No Tears   0.1071\n",
              "4      FDR       CRL   0.2143\n",
              "5      FDR      CORL   0.0000\n",
              "6      TPR        PC   0.7407\n",
              "7      TPR       GES   0.6667\n",
              "8      TPR    LinGAM   0.7407\n",
              "9      TPR  No Tears   0.9259\n",
              "10     TPR       CRL   0.8148\n",
              "11     TPR      CORL   1.0000\n",
              "12     SDH        PC  12.0000\n",
              "13     SDH       GES  15.0000\n",
              "14     SDH    LinGAM  13.0000\n",
              "15     SDH  No Tears   4.0000\n",
              "16     SDH       CRL  10.0000\n",
              "17     SDH      CORL   0.0000"
            ],
            "text/html": [
              "\n",
              "  <div id=\"df-f589c618-5d1e-4a56-abf3-29e215533f6c\">\n",
              "    <div class=\"colab-df-container\">\n",
              "      <div>\n",
              "<style scoped>\n",
              "    .dataframe tbody tr th:only-of-type {\n",
              "        vertical-align: middle;\n",
              "    }\n",
              "\n",
              "    .dataframe tbody tr th {\n",
              "        vertical-align: top;\n",
              "    }\n",
              "\n",
              "    .dataframe thead th {\n",
              "        text-align: right;\n",
              "    }\n",
              "</style>\n",
              "<table border=\"1\" class=\"dataframe\">\n",
              "  <thead>\n",
              "    <tr style=\"text-align: right;\">\n",
              "      <th></th>\n",
              "      <th>Metrics</th>\n",
              "      <th>Algorithm</th>\n",
              "      <th>Values</th>\n",
              "    </tr>\n",
              "  </thead>\n",
              "  <tbody>\n",
              "    <tr>\n",
              "      <th>0</th>\n",
              "      <td>FDR</td>\n",
              "      <td>PC</td>\n",
              "      <td>0.2593</td>\n",
              "    </tr>\n",
              "    <tr>\n",
              "      <th>1</th>\n",
              "      <td>FDR</td>\n",
              "      <td>GES</td>\n",
              "      <td>0.3793</td>\n",
              "    </tr>\n",
              "    <tr>\n",
              "      <th>2</th>\n",
              "      <td>FDR</td>\n",
              "      <td>LinGAM</td>\n",
              "      <td>0.3333</td>\n",
              "    </tr>\n",
              "    <tr>\n",
              "      <th>3</th>\n",
              "      <td>FDR</td>\n",
              "      <td>No Tears</td>\n",
              "      <td>0.1071</td>\n",
              "    </tr>\n",
              "    <tr>\n",
              "      <th>4</th>\n",
              "      <td>FDR</td>\n",
              "      <td>CRL</td>\n",
              "      <td>0.2143</td>\n",
              "    </tr>\n",
              "    <tr>\n",
              "      <th>5</th>\n",
              "      <td>FDR</td>\n",
              "      <td>CORL</td>\n",
              "      <td>0.0000</td>\n",
              "    </tr>\n",
              "    <tr>\n",
              "      <th>6</th>\n",
              "      <td>TPR</td>\n",
              "      <td>PC</td>\n",
              "      <td>0.7407</td>\n",
              "    </tr>\n",
              "    <tr>\n",
              "      <th>7</th>\n",
              "      <td>TPR</td>\n",
              "      <td>GES</td>\n",
              "      <td>0.6667</td>\n",
              "    </tr>\n",
              "    <tr>\n",
              "      <th>8</th>\n",
              "      <td>TPR</td>\n",
              "      <td>LinGAM</td>\n",
              "      <td>0.7407</td>\n",
              "    </tr>\n",
              "    <tr>\n",
              "      <th>9</th>\n",
              "      <td>TPR</td>\n",
              "      <td>No Tears</td>\n",
              "      <td>0.9259</td>\n",
              "    </tr>\n",
              "    <tr>\n",
              "      <th>10</th>\n",
              "      <td>TPR</td>\n",
              "      <td>CRL</td>\n",
              "      <td>0.8148</td>\n",
              "    </tr>\n",
              "    <tr>\n",
              "      <th>11</th>\n",
              "      <td>TPR</td>\n",
              "      <td>CORL</td>\n",
              "      <td>1.0000</td>\n",
              "    </tr>\n",
              "    <tr>\n",
              "      <th>12</th>\n",
              "      <td>SDH</td>\n",
              "      <td>PC</td>\n",
              "      <td>12.0000</td>\n",
              "    </tr>\n",
              "    <tr>\n",
              "      <th>13</th>\n",
              "      <td>SDH</td>\n",
              "      <td>GES</td>\n",
              "      <td>15.0000</td>\n",
              "    </tr>\n",
              "    <tr>\n",
              "      <th>14</th>\n",
              "      <td>SDH</td>\n",
              "      <td>LinGAM</td>\n",
              "      <td>13.0000</td>\n",
              "    </tr>\n",
              "    <tr>\n",
              "      <th>15</th>\n",
              "      <td>SDH</td>\n",
              "      <td>No Tears</td>\n",
              "      <td>4.0000</td>\n",
              "    </tr>\n",
              "    <tr>\n",
              "      <th>16</th>\n",
              "      <td>SDH</td>\n",
              "      <td>CRL</td>\n",
              "      <td>10.0000</td>\n",
              "    </tr>\n",
              "    <tr>\n",
              "      <th>17</th>\n",
              "      <td>SDH</td>\n",
              "      <td>CORL</td>\n",
              "      <td>0.0000</td>\n",
              "    </tr>\n",
              "  </tbody>\n",
              "</table>\n",
              "</div>\n",
              "      <button class=\"colab-df-convert\" onclick=\"convertToInteractive('df-f589c618-5d1e-4a56-abf3-29e215533f6c')\"\n",
              "              title=\"Convert this dataframe to an interactive table.\"\n",
              "              style=\"display:none;\">\n",
              "        \n",
              "  <svg xmlns=\"http://www.w3.org/2000/svg\" height=\"24px\"viewBox=\"0 0 24 24\"\n",
              "       width=\"24px\">\n",
              "    <path d=\"M0 0h24v24H0V0z\" fill=\"none\"/>\n",
              "    <path d=\"M18.56 5.44l.94 2.06.94-2.06 2.06-.94-2.06-.94-.94-2.06-.94 2.06-2.06.94zm-11 1L8.5 8.5l.94-2.06 2.06-.94-2.06-.94L8.5 2.5l-.94 2.06-2.06.94zm10 10l.94 2.06.94-2.06 2.06-.94-2.06-.94-.94-2.06-.94 2.06-2.06.94z\"/><path d=\"M17.41 7.96l-1.37-1.37c-.4-.4-.92-.59-1.43-.59-.52 0-1.04.2-1.43.59L10.3 9.45l-7.72 7.72c-.78.78-.78 2.05 0 2.83L4 21.41c.39.39.9.59 1.41.59.51 0 1.02-.2 1.41-.59l7.78-7.78 2.81-2.81c.8-.78.8-2.07 0-2.86zM5.41 20L4 18.59l7.72-7.72 1.47 1.35L5.41 20z\"/>\n",
              "  </svg>\n",
              "      </button>\n",
              "      \n",
              "  <style>\n",
              "    .colab-df-container {\n",
              "      display:flex;\n",
              "      flex-wrap:wrap;\n",
              "      gap: 12px;\n",
              "    }\n",
              "\n",
              "    .colab-df-convert {\n",
              "      background-color: #E8F0FE;\n",
              "      border: none;\n",
              "      border-radius: 50%;\n",
              "      cursor: pointer;\n",
              "      display: none;\n",
              "      fill: #1967D2;\n",
              "      height: 32px;\n",
              "      padding: 0 0 0 0;\n",
              "      width: 32px;\n",
              "    }\n",
              "\n",
              "    .colab-df-convert:hover {\n",
              "      background-color: #E2EBFA;\n",
              "      box-shadow: 0px 1px 2px rgba(60, 64, 67, 0.3), 0px 1px 3px 1px rgba(60, 64, 67, 0.15);\n",
              "      fill: #174EA6;\n",
              "    }\n",
              "\n",
              "    [theme=dark] .colab-df-convert {\n",
              "      background-color: #3B4455;\n",
              "      fill: #D2E3FC;\n",
              "    }\n",
              "\n",
              "    [theme=dark] .colab-df-convert:hover {\n",
              "      background-color: #434B5C;\n",
              "      box-shadow: 0px 1px 3px 1px rgba(0, 0, 0, 0.15);\n",
              "      filter: drop-shadow(0px 1px 2px rgba(0, 0, 0, 0.3));\n",
              "      fill: #FFFFFF;\n",
              "    }\n",
              "  </style>\n",
              "\n",
              "      <script>\n",
              "        const buttonEl =\n",
              "          document.querySelector('#df-f589c618-5d1e-4a56-abf3-29e215533f6c button.colab-df-convert');\n",
              "        buttonEl.style.display =\n",
              "          google.colab.kernel.accessAllowed ? 'block' : 'none';\n",
              "\n",
              "        async function convertToInteractive(key) {\n",
              "          const element = document.querySelector('#df-f589c618-5d1e-4a56-abf3-29e215533f6c');\n",
              "          const dataTable =\n",
              "            await google.colab.kernel.invokeFunction('convertToInteractive',\n",
              "                                                     [key], {});\n",
              "          if (!dataTable) return;\n",
              "\n",
              "          const docLinkHtml = 'Like what you see? Visit the ' +\n",
              "            '<a target=\"_blank\" href=https://colab.research.google.com/notebooks/data_table.ipynb>data table notebook</a>'\n",
              "            + ' to learn more about interactive tables.';\n",
              "          element.innerHTML = '';\n",
              "          dataTable['output_type'] = 'display_data';\n",
              "          await google.colab.output.renderOutput(dataTable, element);\n",
              "          const docLink = document.createElement('div');\n",
              "          docLink.innerHTML = docLinkHtml;\n",
              "          element.appendChild(docLink);\n",
              "        }\n",
              "      </script>\n",
              "    </div>\n",
              "  </div>\n",
              "  "
            ]
          },
          "metadata": {},
          "execution_count": 32
        }
      ]
    },
    {
      "cell_type": "code",
      "source": [
        "sc"
      ],
      "metadata": {
        "colab": {
          "base_uri": "https://localhost:8080/"
        },
        "id": "DFbia-sf1SxW",
        "outputId": "0099ac18-3cef-4755-a006-54c2f106f715"
      },
      "execution_count": null,
      "outputs": [
        {
          "output_type": "execute_result",
          "data": {
            "text/plain": [
              "12    6.033381e-06\n",
              "13    3.003843e-07\n",
              "14    2.219557e-06\n",
              "15    1.798525e-02\n",
              "16    4.458099e-05\n",
              "17    9.819616e-01\n",
              "Name: Values, dtype: float64"
            ]
          },
          "metadata": {},
          "execution_count": 35
        }
      ]
    },
    {
      "cell_type": "code",
      "source": [
        "def metricNew(lambda1, lambda2, TPR, FDR, softComp_sdh):\n",
        "    print(\"Denominator\", 1.0*pow(lambda2*(0), softComp_sdh))\n",
        "    print(\"Numerator\",pow(lambda1*TPR, 1-softComp_sdh))\n",
        "    return pow(lambda1*TPR, 1-softComp_sdh)/(1.0*pow(lambda2*(FDR+0.001), softComp_sdh))\n"
      ],
      "metadata": {
        "id": "bdrxWVMlz_Pa"
      },
      "execution_count": null,
      "outputs": []
    },
    {
      "cell_type": "code",
      "source": [
        "df"
      ],
      "metadata": {
        "colab": {
          "base_uri": "https://localhost:8080/",
          "height": 614
        },
        "id": "1Nqc9x-x2vQK",
        "outputId": "6f40753b-aee6-4856-b23e-5e6c5fd80e8a"
      },
      "execution_count": null,
      "outputs": [
        {
          "output_type": "execute_result",
          "data": {
            "text/plain": [
              "   Metrics Algorithm   Values\n",
              "0      FDR        PC   0.2593\n",
              "1      FDR       GES   0.3793\n",
              "2      FDR    LinGAM   0.3333\n",
              "3      FDR  No Tears   0.1071\n",
              "4      FDR       CRL   0.2143\n",
              "5      FDR      CORL   0.0000\n",
              "6      TPR        PC   0.7407\n",
              "7      TPR       GES   0.6667\n",
              "8      TPR    LinGAM   0.7407\n",
              "9      TPR  No Tears   0.9259\n",
              "10     TPR       CRL   0.8148\n",
              "11     TPR      CORL   1.0000\n",
              "12     SDH        PC  12.0000\n",
              "13     SDH       GES  15.0000\n",
              "14     SDH    LinGAM  13.0000\n",
              "15     SDH  No Tears   4.0000\n",
              "16     SDH       CRL  10.0000\n",
              "17     SDH      CORL   0.0000"
            ],
            "text/html": [
              "\n",
              "  <div id=\"df-ea5a95c1-6f37-4b0a-b991-a4c22625b1ca\">\n",
              "    <div class=\"colab-df-container\">\n",
              "      <div>\n",
              "<style scoped>\n",
              "    .dataframe tbody tr th:only-of-type {\n",
              "        vertical-align: middle;\n",
              "    }\n",
              "\n",
              "    .dataframe tbody tr th {\n",
              "        vertical-align: top;\n",
              "    }\n",
              "\n",
              "    .dataframe thead th {\n",
              "        text-align: right;\n",
              "    }\n",
              "</style>\n",
              "<table border=\"1\" class=\"dataframe\">\n",
              "  <thead>\n",
              "    <tr style=\"text-align: right;\">\n",
              "      <th></th>\n",
              "      <th>Metrics</th>\n",
              "      <th>Algorithm</th>\n",
              "      <th>Values</th>\n",
              "    </tr>\n",
              "  </thead>\n",
              "  <tbody>\n",
              "    <tr>\n",
              "      <th>0</th>\n",
              "      <td>FDR</td>\n",
              "      <td>PC</td>\n",
              "      <td>0.2593</td>\n",
              "    </tr>\n",
              "    <tr>\n",
              "      <th>1</th>\n",
              "      <td>FDR</td>\n",
              "      <td>GES</td>\n",
              "      <td>0.3793</td>\n",
              "    </tr>\n",
              "    <tr>\n",
              "      <th>2</th>\n",
              "      <td>FDR</td>\n",
              "      <td>LinGAM</td>\n",
              "      <td>0.3333</td>\n",
              "    </tr>\n",
              "    <tr>\n",
              "      <th>3</th>\n",
              "      <td>FDR</td>\n",
              "      <td>No Tears</td>\n",
              "      <td>0.1071</td>\n",
              "    </tr>\n",
              "    <tr>\n",
              "      <th>4</th>\n",
              "      <td>FDR</td>\n",
              "      <td>CRL</td>\n",
              "      <td>0.2143</td>\n",
              "    </tr>\n",
              "    <tr>\n",
              "      <th>5</th>\n",
              "      <td>FDR</td>\n",
              "      <td>CORL</td>\n",
              "      <td>0.0000</td>\n",
              "    </tr>\n",
              "    <tr>\n",
              "      <th>6</th>\n",
              "      <td>TPR</td>\n",
              "      <td>PC</td>\n",
              "      <td>0.7407</td>\n",
              "    </tr>\n",
              "    <tr>\n",
              "      <th>7</th>\n",
              "      <td>TPR</td>\n",
              "      <td>GES</td>\n",
              "      <td>0.6667</td>\n",
              "    </tr>\n",
              "    <tr>\n",
              "      <th>8</th>\n",
              "      <td>TPR</td>\n",
              "      <td>LinGAM</td>\n",
              "      <td>0.7407</td>\n",
              "    </tr>\n",
              "    <tr>\n",
              "      <th>9</th>\n",
              "      <td>TPR</td>\n",
              "      <td>No Tears</td>\n",
              "      <td>0.9259</td>\n",
              "    </tr>\n",
              "    <tr>\n",
              "      <th>10</th>\n",
              "      <td>TPR</td>\n",
              "      <td>CRL</td>\n",
              "      <td>0.8148</td>\n",
              "    </tr>\n",
              "    <tr>\n",
              "      <th>11</th>\n",
              "      <td>TPR</td>\n",
              "      <td>CORL</td>\n",
              "      <td>1.0000</td>\n",
              "    </tr>\n",
              "    <tr>\n",
              "      <th>12</th>\n",
              "      <td>SDH</td>\n",
              "      <td>PC</td>\n",
              "      <td>12.0000</td>\n",
              "    </tr>\n",
              "    <tr>\n",
              "      <th>13</th>\n",
              "      <td>SDH</td>\n",
              "      <td>GES</td>\n",
              "      <td>15.0000</td>\n",
              "    </tr>\n",
              "    <tr>\n",
              "      <th>14</th>\n",
              "      <td>SDH</td>\n",
              "      <td>LinGAM</td>\n",
              "      <td>13.0000</td>\n",
              "    </tr>\n",
              "    <tr>\n",
              "      <th>15</th>\n",
              "      <td>SDH</td>\n",
              "      <td>No Tears</td>\n",
              "      <td>4.0000</td>\n",
              "    </tr>\n",
              "    <tr>\n",
              "      <th>16</th>\n",
              "      <td>SDH</td>\n",
              "      <td>CRL</td>\n",
              "      <td>10.0000</td>\n",
              "    </tr>\n",
              "    <tr>\n",
              "      <th>17</th>\n",
              "      <td>SDH</td>\n",
              "      <td>CORL</td>\n",
              "      <td>0.0000</td>\n",
              "    </tr>\n",
              "  </tbody>\n",
              "</table>\n",
              "</div>\n",
              "      <button class=\"colab-df-convert\" onclick=\"convertToInteractive('df-ea5a95c1-6f37-4b0a-b991-a4c22625b1ca')\"\n",
              "              title=\"Convert this dataframe to an interactive table.\"\n",
              "              style=\"display:none;\">\n",
              "        \n",
              "  <svg xmlns=\"http://www.w3.org/2000/svg\" height=\"24px\"viewBox=\"0 0 24 24\"\n",
              "       width=\"24px\">\n",
              "    <path d=\"M0 0h24v24H0V0z\" fill=\"none\"/>\n",
              "    <path d=\"M18.56 5.44l.94 2.06.94-2.06 2.06-.94-2.06-.94-.94-2.06-.94 2.06-2.06.94zm-11 1L8.5 8.5l.94-2.06 2.06-.94-2.06-.94L8.5 2.5l-.94 2.06-2.06.94zm10 10l.94 2.06.94-2.06 2.06-.94-2.06-.94-.94-2.06-.94 2.06-2.06.94z\"/><path d=\"M17.41 7.96l-1.37-1.37c-.4-.4-.92-.59-1.43-.59-.52 0-1.04.2-1.43.59L10.3 9.45l-7.72 7.72c-.78.78-.78 2.05 0 2.83L4 21.41c.39.39.9.59 1.41.59.51 0 1.02-.2 1.41-.59l7.78-7.78 2.81-2.81c.8-.78.8-2.07 0-2.86zM5.41 20L4 18.59l7.72-7.72 1.47 1.35L5.41 20z\"/>\n",
              "  </svg>\n",
              "      </button>\n",
              "      \n",
              "  <style>\n",
              "    .colab-df-container {\n",
              "      display:flex;\n",
              "      flex-wrap:wrap;\n",
              "      gap: 12px;\n",
              "    }\n",
              "\n",
              "    .colab-df-convert {\n",
              "      background-color: #E8F0FE;\n",
              "      border: none;\n",
              "      border-radius: 50%;\n",
              "      cursor: pointer;\n",
              "      display: none;\n",
              "      fill: #1967D2;\n",
              "      height: 32px;\n",
              "      padding: 0 0 0 0;\n",
              "      width: 32px;\n",
              "    }\n",
              "\n",
              "    .colab-df-convert:hover {\n",
              "      background-color: #E2EBFA;\n",
              "      box-shadow: 0px 1px 2px rgba(60, 64, 67, 0.3), 0px 1px 3px 1px rgba(60, 64, 67, 0.15);\n",
              "      fill: #174EA6;\n",
              "    }\n",
              "\n",
              "    [theme=dark] .colab-df-convert {\n",
              "      background-color: #3B4455;\n",
              "      fill: #D2E3FC;\n",
              "    }\n",
              "\n",
              "    [theme=dark] .colab-df-convert:hover {\n",
              "      background-color: #434B5C;\n",
              "      box-shadow: 0px 1px 3px 1px rgba(0, 0, 0, 0.15);\n",
              "      filter: drop-shadow(0px 1px 2px rgba(0, 0, 0, 0.3));\n",
              "      fill: #FFFFFF;\n",
              "    }\n",
              "  </style>\n",
              "\n",
              "      <script>\n",
              "        const buttonEl =\n",
              "          document.querySelector('#df-ea5a95c1-6f37-4b0a-b991-a4c22625b1ca button.colab-df-convert');\n",
              "        buttonEl.style.display =\n",
              "          google.colab.kernel.accessAllowed ? 'block' : 'none';\n",
              "\n",
              "        async function convertToInteractive(key) {\n",
              "          const element = document.querySelector('#df-ea5a95c1-6f37-4b0a-b991-a4c22625b1ca');\n",
              "          const dataTable =\n",
              "            await google.colab.kernel.invokeFunction('convertToInteractive',\n",
              "                                                     [key], {});\n",
              "          if (!dataTable) return;\n",
              "\n",
              "          const docLinkHtml = 'Like what you see? Visit the ' +\n",
              "            '<a target=\"_blank\" href=https://colab.research.google.com/notebooks/data_table.ipynb>data table notebook</a>'\n",
              "            + ' to learn more about interactive tables.';\n",
              "          element.innerHTML = '';\n",
              "          dataTable['output_type'] = 'display_data';\n",
              "          await google.colab.output.renderOutput(dataTable, element);\n",
              "          const docLink = document.createElement('div');\n",
              "          docLink.innerHTML = docLinkHtml;\n",
              "          element.appendChild(docLink);\n",
              "        }\n",
              "      </script>\n",
              "    </div>\n",
              "  </div>\n",
              "  "
            ]
          },
          "metadata": {},
          "execution_count": 80
        }
      ]
    },
    {
      "cell_type": "code",
      "source": [
        "def findMetric(algo, metric):\n",
        "    new_df = df[df[\"Algorithm\"]==algo]\n",
        "    return new_df[new_df[\"Metrics\"] == metric][\"Values\"]"
      ],
      "metadata": {
        "id": "2pkdKQ891Y1n"
      },
      "execution_count": null,
      "outputs": []
    },
    {
      "cell_type": "code",
      "source": [
        "findMetric(\"PC\", \"FDR\").values[0]"
      ],
      "metadata": {
        "colab": {
          "base_uri": "https://localhost:8080/"
        },
        "id": "cJ2j5RI_1w08",
        "outputId": "0e8330c7-009d-4c50-dee3-3c23c39d02b8"
      },
      "execution_count": null,
      "outputs": [
        {
          "output_type": "execute_result",
          "data": {
            "text/plain": [
              "0.2593"
            ]
          },
          "metadata": {},
          "execution_count": 105
        }
      ]
    },
    {
      "cell_type": "code",
      "source": [
        "sc.values[0]"
      ],
      "metadata": {
        "colab": {
          "base_uri": "https://localhost:8080/"
        },
        "id": "yabjGyf33fqf",
        "outputId": "920a3ec0-2993-439a-d7d7-5909f0a3da03"
      },
      "execution_count": null,
      "outputs": [
        {
          "output_type": "execute_result",
          "data": {
            "text/plain": [
              "6.0333806633370255e-06"
            ]
          },
          "metadata": {},
          "execution_count": 106
        }
      ]
    },
    {
      "cell_type": "code",
      "source": [
        "PC_metric = metricNew(1,1,findMetric(\"PC\", \"TPR\").values[0],findMetric(\"PC\", \"FDR\").values[0], sc.values[0])"
      ],
      "metadata": {
        "colab": {
          "base_uri": "https://localhost:8080/"
        },
        "id": "-O97zoe60tIi",
        "outputId": "151349d4-d459-4f49-9d90-74225ef88f30"
      },
      "execution_count": null,
      "outputs": [
        {
          "output_type": "stream",
          "name": "stdout",
          "text": [
            "Denominator 0.0\n",
            "Numerator 0.7407013413919453\n"
          ]
        }
      ]
    },
    {
      "cell_type": "code",
      "source": [
        "GES_metric = metricNew(1,1,findMetric(\"GES\", \"TPR\").values[0],findMetric(\"GES\", \"FDR\").values[0], sc.values[1])"
      ],
      "metadata": {
        "colab": {
          "base_uri": "https://localhost:8080/"
        },
        "id": "5Xqtst8V2pm6",
        "outputId": "7d78456c-7a76-4712-b92b-9412e12196a8"
      },
      "execution_count": null,
      "outputs": [
        {
          "output_type": "stream",
          "name": "stdout",
          "text": [
            "Denominator 0.0\n",
            "Numerator 0.6667000811909631\n"
          ]
        }
      ]
    },
    {
      "cell_type": "code",
      "source": [
        "LinGAM_metric = metricNew(1,1,findMetric(\"LinGAM\", \"TPR\").values[0],findMetric(\"LinGAM\", \"FDR\").values[0], sc.values[2])"
      ],
      "metadata": {
        "colab": {
          "base_uri": "https://localhost:8080/"
        },
        "id": "owPfpwBH3-xX",
        "outputId": "f5bdafd6-520c-4c73-ad57-00d015b70c69"
      },
      "execution_count": null,
      "outputs": [
        {
          "output_type": "stream",
          "name": "stdout",
          "text": [
            "Denominator 0.0\n",
            "Numerator 0.7407004934702368\n"
          ]
        }
      ]
    },
    {
      "cell_type": "code",
      "source": [
        "No_Tears_metric = metricNew(1,1,findMetric(\"No Tears\", \"TPR\").values[0],findMetric(\"No Tears\", \"FDR\").values[0], sc.values[3])"
      ],
      "metadata": {
        "colab": {
          "base_uri": "https://localhost:8080/"
        },
        "id": "VgxcoYZ04MZF",
        "outputId": "717dacab-7a0e-44b8-c598-52b26c5dff45"
      },
      "execution_count": null,
      "outputs": [
        {
          "output_type": "stream",
          "name": "stdout",
          "text": [
            "Denominator 0.0\n",
            "Numerator 0.9271829516532883\n"
          ]
        }
      ]
    },
    {
      "cell_type": "code",
      "source": [
        "CRL_metric = metricNew(1,1,findMetric(\"CRL\", \"TPR\").values[0],findMetric(\"CRL\", \"FDR\").values[0], sc.values[4])"
      ],
      "metadata": {
        "colab": {
          "base_uri": "https://localhost:8080/"
        },
        "id": "OVqkoNgi4MJ9",
        "outputId": "d8951b0f-a599-4100-af51-1ed75dc0d587"
      },
      "execution_count": null,
      "outputs": [
        {
          "output_type": "stream",
          "name": "stdout",
          "text": [
            "Denominator 0.0\n",
            "Numerator 0.8148074397673231\n"
          ]
        }
      ]
    },
    {
      "cell_type": "code",
      "source": [
        "CORL_metric = metricNew(1,1,findMetric(\"CORL\", \"TPR\").values[0],findMetric(\"CORL\", \"FDR\").values[0], sc.values[5])"
      ],
      "metadata": {
        "colab": {
          "base_uri": "https://localhost:8080/"
        },
        "id": "HSiE97wm4ZPl",
        "outputId": "f445fad1-8b40-44ad-e459-3a0583d83a58"
      },
      "execution_count": null,
      "outputs": [
        {
          "output_type": "stream",
          "name": "stdout",
          "text": [
            "Denominator 0.0\n",
            "Numerator 1.0\n"
          ]
        }
      ]
    },
    {
      "cell_type": "code",
      "source": [
        "import matplotlib.pyplot as plt"
      ],
      "metadata": {
        "id": "b96O7KrF4d-L"
      },
      "execution_count": null,
      "outputs": []
    },
    {
      "cell_type": "code",
      "source": [
        "1.0/1.0*0.0\n"
      ],
      "metadata": {
        "colab": {
          "base_uri": "https://localhost:8080/"
        },
        "id": "Dc3dFECP86FR",
        "outputId": "e8af6d87-3585-4781-a116-4e9493ed3068"
      },
      "execution_count": null,
      "outputs": [
        {
          "output_type": "execute_result",
          "data": {
            "text/plain": [
              "0.0"
            ]
          },
          "metadata": {},
          "execution_count": 130
        }
      ]
    },
    {
      "cell_type": "code",
      "source": [
        "CORL_metric"
      ],
      "metadata": {
        "colab": {
          "base_uri": "https://localhost:8080/"
        },
        "id": "Gq9B1eCe4ezt",
        "outputId": "47c8d5bb-b8e3-4a0e-9145-a262116ed7fe"
      },
      "execution_count": null,
      "outputs": [
        {
          "output_type": "execute_result",
          "data": {
            "text/plain": [
              "882.8457572504923"
            ]
          },
          "metadata": {},
          "execution_count": 142
        }
      ]
    },
    {
      "cell_type": "code",
      "source": [
        "df[\"Algorithm\"]"
      ],
      "metadata": {
        "colab": {
          "base_uri": "https://localhost:8080/"
        },
        "id": "XMcoumW_7CPA",
        "outputId": "1fe257e6-4a16-4ce7-d6f5-29ef12a57cf4"
      },
      "execution_count": null,
      "outputs": [
        {
          "output_type": "execute_result",
          "data": {
            "text/plain": [
              "0           PC\n",
              "1          GES\n",
              "2       LinGAM\n",
              "3     No Tears\n",
              "4          CRL\n",
              "5         CORL\n",
              "6           PC\n",
              "7          GES\n",
              "8       LinGAM\n",
              "9     No Tears\n",
              "10         CRL\n",
              "11        CORL\n",
              "12          PC\n",
              "13         GES\n",
              "14      LinGAM\n",
              "15    No Tears\n",
              "16         CRL\n",
              "17        CORL\n",
              "Name: Algorithm, dtype: object"
            ]
          },
          "metadata": {},
          "execution_count": 115
        }
      ]
    },
    {
      "cell_type": "code",
      "source": [
        "plt.bar([\"PC\", \"GES\", \"LinGAM\", \"No Tears\",\"CRL\", \"CORL\"], [PC_metric,GES_metric,LinGAM_metric,No_Tears_metric,CRL_metric,CORL_metric], color ='maroon',\n",
        "        width = 0.4)\n",
        "plt.xlabel(\"Algorithms\")\n",
        "plt.ylabel(\"Proposed Metric\")"
      ],
      "metadata": {
        "colab": {
          "base_uri": "https://localhost:8080/",
          "height": 466
        },
        "id": "xNdNqXfB4-VR",
        "outputId": "41d8857b-fff3-49fb-ab94-eb9280122c4c"
      },
      "execution_count": null,
      "outputs": [
        {
          "output_type": "execute_result",
          "data": {
            "text/plain": [
              "Text(0, 0.5, 'Proposed Metric')"
            ]
          },
          "metadata": {},
          "execution_count": 143
        },
        {
          "output_type": "display_data",
          "data": {
            "text/plain": [
              "<Figure size 640x480 with 1 Axes>"
            ],
            "image/png": "[encoded data removed]"
          },
          "metadata": {}
        }
      ]
    },
    {
      "cell_type": "code",
      "source": [
        "plt.bar([\"PC\", \"GES\", \"LinGAM\", \"No Tears\",\"CRL\"], [PC_metric,GES_metric,LinGAM_metric,No_Tears_metric,CRL_metric], color ='maroon',\n",
        "        width = 0.4)\n",
        "plt.xlabel(\"Algorithms without CORL\")\n",
        "plt.ylabel(\"Proposed Metric\")"
      ],
      "metadata": {
        "colab": {
          "base_uri": "https://localhost:8080/",
          "height": 467
        },
        "id": "suOS12hi7cJE",
        "outputId": "c38799d5-729f-4a0e-f692-b292d64d36c4"
      },
      "execution_count": null,
      "outputs": [
        {
          "output_type": "execute_result",
          "data": {
            "text/plain": [
              "Text(0, 0.5, 'Proposed Metric')"
            ]
          },
          "metadata": {},
          "execution_count": 145
        },
        {
          "output_type": "display_data",
          "data": {
            "text/plain": [
              "<Figure size 640x480 with 1 Axes>"
            ],
            "image/png": "[encoded data removed]"
          },
          "metadata": {}
        }
      ]
    },
    {
      "cell_type": "code",
      "source": [],
      "metadata": {
        "id": "Xyx0RLBm9bvW"
      },
      "execution_count": null,
      "outputs": []
    },
    {
      "cell_type": "code",
      "source": [],
      "metadata": {
        "id": "vNySDsNn9UF3"
      },
      "execution_count": null,
      "outputs": []
    }
  ]
}